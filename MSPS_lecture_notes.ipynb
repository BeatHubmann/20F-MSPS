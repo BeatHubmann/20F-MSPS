{
 "cells": [
  {
   "cell_type": "markdown",
   "metadata": {
    "toc": true
   },
   "source": [
    "<h1>Multiphysics Simulations for Power Systems lecture notes<span class=\"tocSkip\"></span></h1>\n",
    "<div class=\"toc\"><ul class=\"toc-item\"><li><span><a href=\"#Introduction-(20/2)\" data-toc-modified-id=\"Introduction-(20/2)-1\"><span class=\"toc-item-num\">1&nbsp;&nbsp;</span>Introduction (20/2)</a></span><ul class=\"toc-item\"><li><span><a href=\"#Introduction-to-field-simulations\" data-toc-modified-id=\"Introduction-to-field-simulations-1.1\"><span class=\"toc-item-num\">1.1&nbsp;&nbsp;</span>Introduction to field simulations</a></span><ul class=\"toc-item\"><li><span><a href=\"#Mathematical-model\" data-toc-modified-id=\"Mathematical-model-1.1.1\"><span class=\"toc-item-num\">1.1.1&nbsp;&nbsp;</span>Mathematical model</a></span></li><li><span><a href=\"#Model-discretization\" data-toc-modified-id=\"Model-discretization-1.1.2\"><span class=\"toc-item-num\">1.1.2&nbsp;&nbsp;</span>Model discretization</a></span></li><li><span><a href=\"#Numerical-solution\" data-toc-modified-id=\"Numerical-solution-1.1.3\"><span class=\"toc-item-num\">1.1.3&nbsp;&nbsp;</span>Numerical solution</a></span></li></ul></li><li><span><a href=\"#Real-life-simulation-examples\" data-toc-modified-id=\"Real-life-simulation-examples-1.2\"><span class=\"toc-item-num\">1.2&nbsp;&nbsp;</span>Real life simulation examples</a></span><ul class=\"toc-item\"><li><span><a href=\"#Coupled-transient-electro-mechanical-analysis-of-generator-circuit-breakers\" data-toc-modified-id=\"Coupled-transient-electro-mechanical-analysis-of-generator-circuit-breakers-1.2.1\"><span class=\"toc-item-num\">1.2.1&nbsp;&nbsp;</span>Coupled transient electro-mechanical analysis of generator circuit breakers</a></span></li><li><span><a href=\"#Coupled-transient-electromagnetic-thermal-analysis-of-generator-circuit-breakers\" data-toc-modified-id=\"Coupled-transient-electromagnetic-thermal-analysis-of-generator-circuit-breakers-1.2.2\"><span class=\"toc-item-num\">1.2.2&nbsp;&nbsp;</span>Coupled transient electromagnetic-thermal analysis of generator circuit breakers</a></span></li><li><span><a href=\"#Coupled-electromagnetic-thermal-analysis-of-power-transformers\" data-toc-modified-id=\"Coupled-electromagnetic-thermal-analysis-of-power-transformers-1.2.3\"><span class=\"toc-item-num\">1.2.3&nbsp;&nbsp;</span>Coupled electromagnetic-thermal analysis of power transformers</a></span></li></ul></li></ul></li><li><span><a href=\"#Overview-of-Electromagnetics-(27/2)\" data-toc-modified-id=\"Overview-of-Electromagnetics-(27/2)-2\"><span class=\"toc-item-num\">2&nbsp;&nbsp;</span>Overview of Electromagnetics (27/2)</a></span><ul class=\"toc-item\"><li><span><a href=\"#Summary\" data-toc-modified-id=\"Summary-2.1\"><span class=\"toc-item-num\">2.1&nbsp;&nbsp;</span>Summary</a></span></li><li><span><a href=\"#Introduction\" data-toc-modified-id=\"Introduction-2.2\"><span class=\"toc-item-num\">2.2&nbsp;&nbsp;</span>Introduction</a></span><ul class=\"toc-item\"><li><span><a href=\"#Electromagnetic-field-equations-in-integral-form\" data-toc-modified-id=\"Electromagnetic-field-equations-in-integral-form-2.2.1\"><span class=\"toc-item-num\">2.2.1&nbsp;&nbsp;</span>Electromagnetic field equations in integral form</a></span></li><li><span><a href=\"#Constitutive-relations\" data-toc-modified-id=\"Constitutive-relations-2.2.2\"><span class=\"toc-item-num\">2.2.2&nbsp;&nbsp;</span>Constitutive relations</a></span></li><li><span><a href=\"#Interface-conditions\" data-toc-modified-id=\"Interface-conditions-2.2.3\"><span class=\"toc-item-num\">2.2.3&nbsp;&nbsp;</span>Interface conditions</a></span></li></ul></li><li><span><a href=\"#Maxwell-equations-in-time-domain\" data-toc-modified-id=\"Maxwell-equations-in-time-domain-2.3\"><span class=\"toc-item-num\">2.3&nbsp;&nbsp;</span>Maxwell equations in time domain</a></span></li><li><span><a href=\"#Maxwell-equations-in-frequency-domain\" data-toc-modified-id=\"Maxwell-equations-in-frequency-domain-2.4\"><span class=\"toc-item-num\">2.4&nbsp;&nbsp;</span>Maxwell equations in frequency domain</a></span></li><li><span><a href=\"#Potentials\" data-toc-modified-id=\"Potentials-2.5\"><span class=\"toc-item-num\">2.5&nbsp;&nbsp;</span>Potentials</a></span></li><li><span><a href=\"#Static-fields\" data-toc-modified-id=\"Static-fields-2.6\"><span class=\"toc-item-num\">2.6&nbsp;&nbsp;</span>Static fields</a></span></li><li><span><a href=\"#Quasi-static-fields\" data-toc-modified-id=\"Quasi-static-fields-2.7\"><span class=\"toc-item-num\">2.7&nbsp;&nbsp;</span>Quasi-static fields</a></span></li><li><span><a href=\"#Wave-equation\" data-toc-modified-id=\"Wave-equation-2.8\"><span class=\"toc-item-num\">2.8&nbsp;&nbsp;</span>Wave equation</a></span></li></ul></li><li><span><a href=\"#Field-Simulation-Fundamentals-(5/3)\" data-toc-modified-id=\"Field-Simulation-Fundamentals-(5/3)-3\"><span class=\"toc-item-num\">3&nbsp;&nbsp;</span>Field Simulation Fundamentals (5/3)</a></span><ul class=\"toc-item\"><li><span><a href=\"#Summary\" data-toc-modified-id=\"Summary-3.1\"><span class=\"toc-item-num\">3.1&nbsp;&nbsp;</span>Summary</a></span></li><li><span><a href=\"#Introduction\" data-toc-modified-id=\"Introduction-3.2\"><span class=\"toc-item-num\">3.2&nbsp;&nbsp;</span>Introduction</a></span><ul class=\"toc-item\"><li><span><a href=\"#Spatial-derivatives\" data-toc-modified-id=\"Spatial-derivatives-3.2.1\"><span class=\"toc-item-num\">3.2.1&nbsp;&nbsp;</span>Spatial derivatives</a></span></li><li><span><a href=\"#Fields-classification\" data-toc-modified-id=\"Fields-classification-3.2.2\"><span class=\"toc-item-num\">3.2.2&nbsp;&nbsp;</span>Fields classification</a></span></li></ul></li><li><span><a href=\"#Boundary-value-problem-(BVP)---general-2-D-form\" data-toc-modified-id=\"Boundary-value-problem-(BVP)---general-2-D-form-3.3\"><span class=\"toc-item-num\">3.3&nbsp;&nbsp;</span>Boundary value problem (BVP) - general 2-D form</a></span><ul class=\"toc-item\"><li><span><a href=\"#Partial-differential-equation-(PDE)\" data-toc-modified-id=\"Partial-differential-equation-(PDE)-3.3.1\"><span class=\"toc-item-num\">3.3.1&nbsp;&nbsp;</span>Partial differential equation (PDE)</a></span></li><li><span><a href=\"#Boundary-conditions-(BC)\" data-toc-modified-id=\"Boundary-conditions-(BC)-3.3.2\"><span class=\"toc-item-num\">3.3.2&nbsp;&nbsp;</span>Boundary conditions (BC)</a></span></li></ul></li><li><span><a href=\"#Numerical-example\" data-toc-modified-id=\"Numerical-example-3.4\"><span class=\"toc-item-num\">3.4&nbsp;&nbsp;</span>Numerical example</a></span><ul class=\"toc-item\"><li><span><a href=\"#Stationary-current-distribution-analysis-in-massive-conductors\" data-toc-modified-id=\"Stationary-current-distribution-analysis-in-massive-conductors-3.4.1\"><span class=\"toc-item-num\">3.4.1&nbsp;&nbsp;</span>Stationary current distribution analysis in massive conductors</a></span></li><li><span><a href=\"#BVP-(PDE-and-BCs)\" data-toc-modified-id=\"BVP-(PDE-and-BCs)-3.4.2\"><span class=\"toc-item-num\">3.4.2&nbsp;&nbsp;</span>BVP (PDE and BCs)</a></span></li><li><span><a href=\"#Numerical-results\" data-toc-modified-id=\"Numerical-results-3.4.3\"><span class=\"toc-item-num\">3.4.3&nbsp;&nbsp;</span>Numerical results</a></span></li></ul></li></ul></li><li><span><a href=\"#FEM-for-Electromagnetic-Simulations-p.1-(12/3)\" data-toc-modified-id=\"FEM-for-Electromagnetic-Simulations-p.1-(12/3)-4\"><span class=\"toc-item-num\">4&nbsp;&nbsp;</span>FEM for Electromagnetic Simulations p.1 (12/3)</a></span><ul class=\"toc-item\"><li><span><a href=\"#Summary\" data-toc-modified-id=\"Summary-4.1\"><span class=\"toc-item-num\">4.1&nbsp;&nbsp;</span>Summary</a></span></li><li><span><a href=\"#Introduction:-finite-elements-in-Nature\" data-toc-modified-id=\"Introduction:-finite-elements-in-Nature-4.2\"><span class=\"toc-item-num\">4.2&nbsp;&nbsp;</span>Introduction: finite elements in Nature</a></span></li><li><span><a href=\"#Boundary-value-problem-(BVP)---strong-form\" data-toc-modified-id=\"Boundary-value-problem-(BVP)---strong-form-4.3\"><span class=\"toc-item-num\">4.3&nbsp;&nbsp;</span>Boundary value problem (BVP) - strong form</a></span></li><li><span><a href=\"#FEM-discretization-of-the-2-D-BVP\" data-toc-modified-id=\"FEM-discretization-of-the-2-D-BVP-4.4\"><span class=\"toc-item-num\">4.4&nbsp;&nbsp;</span>FEM discretization of the 2-D BVP</a></span><ul class=\"toc-item\"><li><span><a href=\"#Equivalent-integral-form---weak-form\" data-toc-modified-id=\"Equivalent-integral-form---weak-form-4.4.1\"><span class=\"toc-item-num\">4.4.1&nbsp;&nbsp;</span>Equivalent integral form - weak form</a></span></li></ul></li><li><span><a href=\"#Numerical-example\" data-toc-modified-id=\"Numerical-example-4.5\"><span class=\"toc-item-num\">4.5&nbsp;&nbsp;</span>Numerical example</a></span><ul class=\"toc-item\"><li><span><a href=\"#Leakage-magnetic-flux-of-a-transformer-windings-system\" data-toc-modified-id=\"Leakage-magnetic-flux-of-a-transformer-windings-system-4.5.1\"><span class=\"toc-item-num\">4.5.1&nbsp;&nbsp;</span>Leakage magnetic flux of a transformer windings system</a></span></li><li><span><a href=\"#BVP-(strong-form)\" data-toc-modified-id=\"BVP-(strong-form)-4.5.2\"><span class=\"toc-item-num\">4.5.2&nbsp;&nbsp;</span>BVP (strong form)</a></span></li><li><span><a href=\"#Equivalent-integral-form-(weak-form)\" data-toc-modified-id=\"Equivalent-integral-form-(weak-form)-4.5.3\"><span class=\"toc-item-num\">4.5.3&nbsp;&nbsp;</span>Equivalent integral form (weak form)</a></span></li><li><span><a href=\"#Numerical-results\" data-toc-modified-id=\"Numerical-results-4.5.4\"><span class=\"toc-item-num\">4.5.4&nbsp;&nbsp;</span>Numerical results</a></span></li></ul></li></ul></li><li><span><a href=\"#FEM-for-Electromagnetic-Simulations-p.2-(19/3)\" data-toc-modified-id=\"FEM-for-Electromagnetic-Simulations-p.2-(19/3)-5\"><span class=\"toc-item-num\">5&nbsp;&nbsp;</span>FEM for Electromagnetic Simulations p.2 (19/3)</a></span><ul class=\"toc-item\"><li><span><a href=\"#Summary\" data-toc-modified-id=\"Summary-5.1\"><span class=\"toc-item-num\">5.1&nbsp;&nbsp;</span>Summary</a></span></li><li><span><a href=\"#Introduction\" data-toc-modified-id=\"Introduction-5.2\"><span class=\"toc-item-num\">5.2&nbsp;&nbsp;</span>Introduction</a></span><ul class=\"toc-item\"><li><span><a href=\"#Boundary-value-problem-(BVP)---strong-form\" data-toc-modified-id=\"Boundary-value-problem-(BVP)---strong-form-5.2.1\"><span class=\"toc-item-num\">5.2.1&nbsp;&nbsp;</span>Boundary value problem (BVP) - strong form</a></span></li><li><span><a href=\"#Equivalent-integral-form---weak-form\" data-toc-modified-id=\"Equivalent-integral-form---weak-form-5.2.2\"><span class=\"toc-item-num\">5.2.2&nbsp;&nbsp;</span>Equivalent integral form - weak form</a></span></li></ul></li><li><span><a href=\"#FEM-discretization-of-the-weak-form\" data-toc-modified-id=\"FEM-discretization-of-the-weak-form-5.3\"><span class=\"toc-item-num\">5.3&nbsp;&nbsp;</span>FEM discretization of the weak form</a></span><ul class=\"toc-item\"><li><span><a href=\"#Domain-subdivision\" data-toc-modified-id=\"Domain-subdivision-5.3.1\"><span class=\"toc-item-num\">5.3.1&nbsp;&nbsp;</span>Domain subdivision</a></span></li><li><span><a href=\"#Approximation-of-the-unknown-function\" data-toc-modified-id=\"Approximation-of-the-unknown-function-5.3.2\"><span class=\"toc-item-num\">5.3.2&nbsp;&nbsp;</span>Approximation of the unknown function</a></span></li></ul></li><li><span><a href=\"#Numerical-example\" data-toc-modified-id=\"Numerical-example-5.4\"><span class=\"toc-item-num\">5.4&nbsp;&nbsp;</span>Numerical example</a></span><ul class=\"toc-item\"><li><span><a href=\"#Mesh-topology\" data-toc-modified-id=\"Mesh-topology-5.4.1\"><span class=\"toc-item-num\">5.4.1&nbsp;&nbsp;</span>Mesh topology</a></span></li><li><span><a href=\"#Approximation-of-a-scalar-function\" data-toc-modified-id=\"Approximation-of-a-scalar-function-5.4.2\"><span class=\"toc-item-num\">5.4.2&nbsp;&nbsp;</span>Approximation of a scalar function</a></span></li><li><span><a href=\"#Isolines-of-the-approximated-function\" data-toc-modified-id=\"Isolines-of-the-approximated-function-5.4.3\"><span class=\"toc-item-num\">5.4.3&nbsp;&nbsp;</span>Isolines of the approximated function</a></span></li></ul></li></ul></li><li><span><a href=\"#FEM-for-Electromagnetic-Simulations-p.3-(26/3)\" data-toc-modified-id=\"FEM-for-Electromagnetic-Simulations-p.3-(26/3)-6\"><span class=\"toc-item-num\">6&nbsp;&nbsp;</span>FEM for Electromagnetic Simulations p.3 (26/3)</a></span><ul class=\"toc-item\"><li><span><a href=\"#Summary\" data-toc-modified-id=\"Summary-6.1\"><span class=\"toc-item-num\">6.1&nbsp;&nbsp;</span>Summary</a></span></li><li><span><a href=\"#Introduction\" data-toc-modified-id=\"Introduction-6.2\"><span class=\"toc-item-num\">6.2&nbsp;&nbsp;</span>Introduction</a></span><ul class=\"toc-item\"><li><span><a href=\"#Boundary-value-problem-(BVP)---strong-form\" data-toc-modified-id=\"Boundary-value-problem-(BVP)---strong-form-6.2.1\"><span class=\"toc-item-num\">6.2.1&nbsp;&nbsp;</span>Boundary value problem (BVP) - strong form</a></span></li><li><span><a href=\"#Equivalent-integral-form---weak-form\" data-toc-modified-id=\"Equivalent-integral-form---weak-form-6.2.2\"><span class=\"toc-item-num\">6.2.2&nbsp;&nbsp;</span>Equivalent integral form - weak form</a></span></li><li><span><a href=\"#Approximation-of-the-unknown-function\" data-toc-modified-id=\"Approximation-of-the-unknown-function-6.2.3\"><span class=\"toc-item-num\">6.2.3&nbsp;&nbsp;</span>Approximation of the unknown function</a></span></li></ul></li><li><span><a href=\"#FEM-sparse-linear-system-of-equations\" data-toc-modified-id=\"FEM-sparse-linear-system-of-equations-6.3\"><span class=\"toc-item-num\">6.3&nbsp;&nbsp;</span>FEM sparse linear system of equations</a></span><ul class=\"toc-item\"><li><span><a href=\"#Weak-form-discretization\" data-toc-modified-id=\"Weak-form-discretization-6.3.1\"><span class=\"toc-item-num\">6.3.1&nbsp;&nbsp;</span>Weak form discretization</a></span></li><li><span><a href=\"#Selection-of-the-weighting-functions\" data-toc-modified-id=\"Selection-of-the-weighting-functions-6.3.2\"><span class=\"toc-item-num\">6.3.2&nbsp;&nbsp;</span>Selection of the weighting functions</a></span></li><li><span><a href=\"#Matrix-assembly\" data-toc-modified-id=\"Matrix-assembly-6.3.3\"><span class=\"toc-item-num\">6.3.3&nbsp;&nbsp;</span>Matrix assembly</a></span></li><li><span><a href=\"#Matrix-structure-and-solution-methods\" data-toc-modified-id=\"Matrix-structure-and-solution-methods-6.3.4\"><span class=\"toc-item-num\">6.3.4&nbsp;&nbsp;</span>Matrix structure and solution methods</a></span></li></ul></li><li><span><a href=\"#Numerical-example\" data-toc-modified-id=\"Numerical-example-6.4\"><span class=\"toc-item-num\">6.4&nbsp;&nbsp;</span>Numerical example</a></span><ul class=\"toc-item\"><li><span><a href=\"#Electrostatic-analysis-and-capacitance-calculation\" data-toc-modified-id=\"Electrostatic-analysis-and-capacitance-calculation-6.4.1\"><span class=\"toc-item-num\">6.4.1&nbsp;&nbsp;</span>Electrostatic analysis and capacitance calculation</a></span></li></ul></li></ul></li><li><span><a href=\"#FEM-for-Electromagnetic-Simulations-p.4-(2/4)\" data-toc-modified-id=\"FEM-for-Electromagnetic-Simulations-p.4-(2/4)-7\"><span class=\"toc-item-num\">7&nbsp;&nbsp;</span>FEM for Electromagnetic Simulations p.4 (2/4)</a></span><ul class=\"toc-item\"><li><span><a href=\"#Summary\" data-toc-modified-id=\"Summary-7.1\"><span class=\"toc-item-num\">7.1&nbsp;&nbsp;</span>Summary</a></span></li><li><span><a href=\"#Introduction\" data-toc-modified-id=\"Introduction-7.2\"><span class=\"toc-item-num\">7.2&nbsp;&nbsp;</span>Introduction</a></span></li><li><span><a href=\"#Scalar-3-D-FEM\" data-toc-modified-id=\"Scalar-3-D-FEM-7.3\"><span class=\"toc-item-num\">7.3&nbsp;&nbsp;</span>Scalar 3-D FEM</a></span><ul class=\"toc-item\"><li><span><a href=\"#Boundary-value-problem-(BVP)---strong-form\" data-toc-modified-id=\"Boundary-value-problem-(BVP)---strong-form-7.3.1\"><span class=\"toc-item-num\">7.3.1&nbsp;&nbsp;</span>Boundary value problem (BVP) - strong form</a></span></li><li><span><a href=\"#Equivalent-integral-form---weak-form\" data-toc-modified-id=\"Equivalent-integral-form---weak-form-7.3.2\"><span class=\"toc-item-num\">7.3.2&nbsp;&nbsp;</span>Equivalent integral form - weak form</a></span></li><li><span><a href=\"#Approximation-of-the-unknown-function\" data-toc-modified-id=\"Approximation-of-the-unknown-function-7.3.3\"><span class=\"toc-item-num\">7.3.3&nbsp;&nbsp;</span>Approximation of the unknown function</a></span></li><li><span><a href=\"#FEM-discretization\" data-toc-modified-id=\"FEM-discretization-7.3.4\"><span class=\"toc-item-num\">7.3.4&nbsp;&nbsp;</span>FEM discretization</a></span></li><li><span><a href=\"#FEM-matrix-assembly\" data-toc-modified-id=\"FEM-matrix-assembly-7.3.5\"><span class=\"toc-item-num\">7.3.5&nbsp;&nbsp;</span>FEM matrix assembly</a></span></li></ul></li><li><span><a href=\"#Numerical-example\" data-toc-modified-id=\"Numerical-example-7.4\"><span class=\"toc-item-num\">7.4&nbsp;&nbsp;</span>Numerical example</a></span><ul class=\"toc-item\"><li><span><a href=\"#3-D-electrostatic-analysis-of-a-power-transformer-(Exercise-7)\" data-toc-modified-id=\"3-D-electrostatic-analysis-of-a-power-transformer-(Exercise-7)-7.4.1\"><span class=\"toc-item-num\">7.4.1&nbsp;&nbsp;</span>3-D electrostatic analysis of a power transformer (Exercise 7)</a></span></li><li><span><a href=\"#3-D-magnetostatic-analysis-of-a-power-transformer-(Exercise-7)\" data-toc-modified-id=\"3-D-magnetostatic-analysis-of-a-power-transformer-(Exercise-7)-7.4.2\"><span class=\"toc-item-num\">7.4.2&nbsp;&nbsp;</span>3-D magnetostatic analysis of a power transformer (Exercise 7)</a></span></li></ul></li></ul></li><li><span><a href=\"#Dielectric-Analysis-of-High-Voltage-Equipment-(9/4)\" data-toc-modified-id=\"Dielectric-Analysis-of-High-Voltage-Equipment-(9/4)-8\"><span class=\"toc-item-num\">8&nbsp;&nbsp;</span>Dielectric Analysis of High Voltage Equipment (9/4)</a></span><ul class=\"toc-item\"><li><span><a href=\"#Summary\" data-toc-modified-id=\"Summary-8.1\"><span class=\"toc-item-num\">8.1&nbsp;&nbsp;</span>Summary</a></span></li><li><span><a href=\"#Introduction\" data-toc-modified-id=\"Introduction-8.2\"><span class=\"toc-item-num\">8.2&nbsp;&nbsp;</span>Introduction</a></span><ul class=\"toc-item\"><li><span><a href=\"#The-case-of-a-generator-circuit-breaker\" data-toc-modified-id=\"The-case-of-a-generator-circuit-breaker-8.2.1\"><span class=\"toc-item-num\">8.2.1&nbsp;&nbsp;</span>The case of a generator circuit breaker</a></span></li></ul></li><li><span><a href=\"#Electrostatic-boundary-value-problem-(BVP)\" data-toc-modified-id=\"Electrostatic-boundary-value-problem-(BVP)-8.3\"><span class=\"toc-item-num\">8.3&nbsp;&nbsp;</span>Electrostatic boundary value problem (BVP)</a></span><ul class=\"toc-item\"><li><span><a href=\"#Poisson-equation\" data-toc-modified-id=\"Poisson-equation-8.3.1\"><span class=\"toc-item-num\">8.3.1&nbsp;&nbsp;</span>Poisson equation</a></span></li><li><span><a href=\"#Boundary-conditions\" data-toc-modified-id=\"Boundary-conditions-8.3.2\"><span class=\"toc-item-num\">8.3.2&nbsp;&nbsp;</span>Boundary conditions</a></span></li><li><span><a href=\"#A-remark-on-ionization\" data-toc-modified-id=\"A-remark-on-ionization-8.3.3\"><span class=\"toc-item-num\">8.3.3&nbsp;&nbsp;</span>A remark on ionization</a></span></li></ul></li><li><span><a href=\"#Dielectric-analysis\" data-toc-modified-id=\"Dielectric-analysis-8.4\"><span class=\"toc-item-num\">8.4&nbsp;&nbsp;</span>Dielectric analysis</a></span><ul class=\"toc-item\"><li><span><a href=\"#Field-enhancement-regions\" data-toc-modified-id=\"Field-enhancement-regions-8.4.1\"><span class=\"toc-item-num\">8.4.1&nbsp;&nbsp;</span>Field enhancement regions</a></span><ul class=\"toc-item\"><li><span><a href=\"#Sharp-edges-and-corners\" data-toc-modified-id=\"Sharp-edges-and-corners-8.4.1.1\"><span class=\"toc-item-num\">8.4.1.1&nbsp;&nbsp;</span>Sharp edges and corners</a></span></li><li><span><a href=\"#Size-reduction-does-not-solve-the-issue\" data-toc-modified-id=\"Size-reduction-does-not-solve-the-issue-8.4.1.2\"><span class=\"toc-item-num\">8.4.1.2&nbsp;&nbsp;</span>Size reduction does not solve the issue</a></span></li></ul></li><li><span><a href=\"#Rounding-of-sharp-corners\" data-toc-modified-id=\"Rounding-of-sharp-corners-8.4.2\"><span class=\"toc-item-num\">8.4.2&nbsp;&nbsp;</span>Rounding of sharp corners</a></span></li><li><span><a href=\"#High-𝜀-coating\" data-toc-modified-id=\"High-𝜀-coating-8.4.3\"><span class=\"toc-item-num\">8.4.3&nbsp;&nbsp;</span>High-𝜀 coating</a></span><ul class=\"toc-item\"><li><span><a href=\"#Example:-Coil-stacks-in-transformers\" data-toc-modified-id=\"Example:-Coil-stacks-in-transformers-8.4.3.1\"><span class=\"toc-item-num\">8.4.3.1&nbsp;&nbsp;</span>Example: Coil stacks in transformers</a></span></li></ul></li><li><span><a href=\"#Electric-shielding\" data-toc-modified-id=\"Electric-shielding-8.4.4\"><span class=\"toc-item-num\">8.4.4&nbsp;&nbsp;</span>Electric shielding</a></span><ul class=\"toc-item\"><li><span><a href=\"#Example:-High-voltage-overhead-line-insulators\" data-toc-modified-id=\"Example:-High-voltage-overhead-line-insulators-8.4.4.1\"><span class=\"toc-item-num\">8.4.4.1&nbsp;&nbsp;</span>Example: High voltage overhead line insulators</a></span></li></ul></li><li><span><a href=\"#Triple-points\" data-toc-modified-id=\"Triple-points-8.4.5\"><span class=\"toc-item-num\">8.4.5&nbsp;&nbsp;</span>Triple points</a></span><ul class=\"toc-item\"><li><span><a href=\"#Recess\" data-toc-modified-id=\"Recess-8.4.5.1\"><span class=\"toc-item-num\">8.4.5.1&nbsp;&nbsp;</span>Recess</a></span></li><li><span><a href=\"#Shield\" data-toc-modified-id=\"Shield-8.4.5.2\"><span class=\"toc-item-num\">8.4.5.2&nbsp;&nbsp;</span>Shield</a></span></li></ul></li></ul></li><li><span><a href=\"#Numerical-example\" data-toc-modified-id=\"Numerical-example-8.5\"><span class=\"toc-item-num\">8.5&nbsp;&nbsp;</span>Numerical example</a></span><ul class=\"toc-item\"><li><span><a href=\"#2-D-electrostatic-analysis-of-a-HV-busbar-(exercise-8)\" data-toc-modified-id=\"2-D-electrostatic-analysis-of-a-HV-busbar-(exercise-8)-8.5.1\"><span class=\"toc-item-num\">8.5.1&nbsp;&nbsp;</span>2-D electrostatic analysis of a HV-busbar (exercise 8)</a></span><ul class=\"toc-item\"><li><span><a href=\"#Field-estimation\" data-toc-modified-id=\"Field-estimation-8.5.1.1\"><span class=\"toc-item-num\">8.5.1.1&nbsp;&nbsp;</span>Field estimation</a></span></li><li><span><a href=\"#Sharp-corners\" data-toc-modified-id=\"Sharp-corners-8.5.1.2\"><span class=\"toc-item-num\">8.5.1.2&nbsp;&nbsp;</span>Sharp corners</a></span></li><li><span><a href=\"#Triple-points\" data-toc-modified-id=\"Triple-points-8.5.1.3\"><span class=\"toc-item-num\">8.5.1.3&nbsp;&nbsp;</span>Triple points</a></span></li><li><span><a href=\"#Shielding\" data-toc-modified-id=\"Shielding-8.5.1.4\"><span class=\"toc-item-num\">8.5.1.4&nbsp;&nbsp;</span>Shielding</a></span></li></ul></li></ul></li></ul></li></ul></div>"
   ]
  },
  {
   "cell_type": "markdown",
   "metadata": {},
   "source": [
    "## Introduction (20/2)\n",
    "\n",
    "- [x] ***processed***\n",
    "\n",
    "### Introduction to field simulations\n",
    "\n",
    "#### Mathematical model\n",
    "\n",
    "#### Model discretization\n",
    "\n",
    "#### Numerical solution\n",
    "\n",
    "### Real life simulation examples\n",
    "\n",
    "#### Coupled transient electro-mechanical analysis of generator circuit breakers\n",
    "#### Coupled transient electromagnetic-thermal analysis of generator circuit breakers\n",
    "#### Coupled electromagnetic-thermal analysis of power transformers"
   ]
  },
  {
   "cell_type": "markdown",
   "metadata": {},
   "source": [
    "## Overview of Electromagnetics (27/2)\n",
    "\n",
    "- [X] ***processed***\n",
    "\n",
    "### Summary\n",
    "* Every electromagnetic system can be represented by four Maxwell equations that are first order partial differential equations with respect to three spatial variables and time.\n",
    "* Electric scalar and magnetic vector potential are introduced in order to simplify field equations in some specific situations.\n",
    "* Static fields are described either by Poisson or by Laplace equations.\n",
    "* The diffusion equation describes quasi-static fields.\n",
    "* The wave equation represents electrodynamic cases (wave propagation).\n",
    "* A partial differential equation of electromagnetic fields along with associated boundary conditions represent a boundary value problem (BVP).\n",
    "* A partial differential equation of electromagnetic fields along with associated boundary and initial conditions represent a boundary initial value problem (BIVP).\n",
    "\n",
    "\n",
    "### Introduction\n",
    "\n",
    "#### Electromagnetic field equations in integral form \n",
    "\n",
    "#### Constitutive relations\n",
    "\n",
    "#### Interface conditions\n",
    "\n",
    "### Maxwell equations in time domain\n",
    "\n",
    "### Maxwell equations in frequency domain\n",
    "\n",
    "### Potentials\n",
    "\n",
    "### Static fields\n",
    "\n",
    "### Quasi-static fields\n",
    "\n",
    "### Wave equation"
   ]
  },
  {
   "cell_type": "markdown",
   "metadata": {},
   "source": [
    "## Field Simulation Fundamentals (5/3)\n",
    "\n",
    "- [X] ***processed***\n",
    "\n",
    "### Summary\n",
    "* Boundary value problem (BVP) is a complete mathematical definition of a scalar or vector field computing problem. It consists of a partial differential equation (PDE) and adjacent boundary conditions (BCs).\n",
    "* Electromagnetic field computing problems are described by a PDE of second order and by a set of Dirichlet and Neumann BCs.\n",
    "* It is very important to have in the BVP at least one BC of the Dirichlet type.\n",
    "* If all the boundary conditions are of the Neumann type, the BVP is not uniquely defined and the numerical solver will report a singular system of equations.\n",
    "* Field visualization after the solution is computed is very helpful: to check the modeling accuracy, to understand the field distribution, to recognize design problems, and to detect critical locations and regions of the device.\n",
    "* Beyond obvious advantages of the field visualization, the post-processing is also useful to obtain macroscopic values essential for lumped modeling of the device (equivalent circuit parameters).\n",
    "\n",
    "### Introduction\n",
    "#### Spatial derivatives\n",
    "#### Fields classification\n",
    "\n",
    "###  Boundary value problem (BVP) - general 2-D form\n",
    "####  Partial differential equation (PDE)\n",
    "####  Boundary conditions (BC)\n",
    "\n",
    "### Numerical example\n",
    "#### Stationary current distribution analysis in massive conductors\n",
    "#### BVP (PDE and BCs)\n",
    "#### Numerical results\n"
   ]
  },
  {
   "cell_type": "markdown",
   "metadata": {},
   "source": [
    "## FEM for Electromagnetic Simulations p.1 (12/3)\n",
    "\n",
    "- [ ] ***processed***\n",
    "\n",
    "### Summary\n",
    "* The fundamental idea of the finite element method can be observed in natural processes such as cracking of dried mud, for example.\n",
    "* FEM does not discretize the original BVP (strong form) but the so called equivalent integral form (weak form).\n",
    "* The weak form can be obtained from the general BVP by integrating its weighted residuals over the computational domain (the method of weighted residuals).\n",
    "* Numerous practical simulation problems are special cases of the general BVP, i.e. of the general weak form presented (electrostatic, magnetostatic, thermal, etc. analyses).\n",
    "* As an example, the general FEM-theory was applied to the problem of computing the leakage magnetic flux of a typical transformer winding configuration.\n",
    "\n",
    "\n",
    "### Introduction: finite elements in Nature\n",
    "\n",
    "### Boundary value problem (BVP) - strong form\n",
    "\n",
    "### FEM discretization of the 2-D BVP\n",
    "#### Equivalent integral form - weak form\n",
    "\n",
    "### Numerical example\n",
    "#### Leakage magnetic flux of a transformer windings system \n",
    "#### BVP (strong form)\n",
    "#### Equivalent integral form (weak form)\n",
    "#### Numerical results"
   ]
  },
  {
   "cell_type": "markdown",
   "metadata": {},
   "source": [
    "## FEM for Electromagnetic Simulations p.2 (19/3)\n",
    "\n",
    "- [X] ***processed***\n",
    "\n",
    "### Summary\n",
    "* The FEM discretization process starts with domain discretization or subdivision. This subdivision is also called meshing and in this process topologically simple elements (triangles, quadrilaterals) are used.\n",
    "* After the mesh of the computational domain is established, the integrals of the weak form are reduced to the corresponding finite sums.\n",
    "* The unknown function is approximated over the elements of the mesh by using linear, quadratic, cubic, etc. shape functions.\n",
    "* As a result of the approximation, the unknown function is represented as a sum of the known shape functions multiplied with the corresponding approximation coefficients. The unknown coefficients of this approximation are the nodal values of the unknown function.\n",
    "* The shape functions are defined for each node of the mesh and have a local character. This means that a shape function has non-zero values only over those elements that contain its particular node.\n",
    "\n",
    "### Introduction\n",
    "#### Boundary value problem (BVP) - strong form\n",
    "#### Equivalent integral form - weak form\n",
    "\n",
    "### FEM discretization of the weak form\n",
    "#### Domain subdivision\n",
    "#### Approximation of the unknown function\n",
    "\n",
    "### Numerical example\n",
    "#### Mesh topology\n",
    "#### Approximation of a scalar function\n",
    "#### Isolines of the approximated function"
   ]
  },
  {
   "cell_type": "markdown",
   "metadata": {},
   "source": [
    "## FEM for Electromagnetic Simulations p.3 (26/3)\n",
    "\n",
    "- [X] ***processed***\n",
    "\n",
    "### Summary\n",
    "* For the selection of the weighting functions the so-called Galerkin method has a clear advantage in terms of accuracy over the other available methods (for example the point collocation or subdomain collocation). Galerkin method suggests that the shape functions themselves play a role of the weighting functions.\n",
    "* Due to the local character of the shape functions the obtained linear equations system is sparse, i.e. the majority of its matrix entries are equal to zero.\n",
    "* There are several modern direct (LU-decomposition, Cholesky-factorization, etc.) and iterative (CG, BiCG, GMRES, etc.) for solving of large FEM linear systems.\n",
    "* The iterative solution methods have an advantage in terms of their complexity and accuracy over the direct methods but they usually have slow convergence since the FEM matrices are almost exclusively ill-conditioned.\n",
    "* The convergence rate of the iterative methods could be accelerated by applying an appropriate preconditioner (diagonal preconditioner, incomplete-LU, etc.)\n",
    "\n",
    "### Introduction\n",
    "#### Boundary value problem (BVP) - strong form\n",
    "#### Equivalent integral form - weak form\n",
    "#### Approximation of the unknown function\n",
    "\n",
    "### FEM sparse linear system of equations \n",
    "#### Weak form discretization\n",
    "#### Selection of the weighting functions\n",
    "#### Matrix assembly\n",
    "#### Matrix structure and solution methods\n",
    "\n",
    "### Numerical example\n",
    "#### Electrostatic analysis and capacitance calculation"
   ]
  },
  {
   "cell_type": "markdown",
   "metadata": {},
   "source": [
    "## FEM for Electromagnetic Simulations p.4 (2/4)\n",
    "\n",
    "- [X] ***processed***\n",
    "\n",
    "### Summary\n",
    "* The Finite Element Method (FEM) is based on a minimization of the energy functional or variational field integral.\n",
    "* The first step of this numerical method is a subdivision or meshing of the computational domain with a large number of topologically simple elements (tetrahedrons or hexahedrons).\n",
    "* After the meshing the order of approximation of the unknown function over the elements is chosen and a large linear system of equations accordingly assembled. The unknowns of this linear system of equations are the nodal values of the unknown function.\n",
    "* After the system of equations is solved the distribution of the unknown field over the computational domain is obtained. The accuracy of the simulation and the needed CPU-time depend strongly on the order of elements and their shape quality.\n",
    "\n",
    "### Introduction\n",
    "\n",
    "### Scalar 3-D FEM\n",
    "#### Boundary value problem (BVP) - strong form\n",
    "#### Equivalent integral form - weak form\n",
    "#### Approximation of the unknown function\n",
    "#### FEM discretization\n",
    "#### FEM matrix assembly\n",
    "\n",
    "### Numerical example\n",
    "#### 3-D electrostatic analysis of a power transformer (Exercise 7)\n",
    "#### 3-D magnetostatic analysis of a power transformer (Exercise 7)"
   ]
  },
  {
   "cell_type": "markdown",
   "metadata": {},
   "source": [
    "## Dielectric Analysis of High Voltage Equipment (9/4)\n",
    "\n",
    "- [X] ***processed***\n",
    "\n",
    "### Summary\n",
    "* The electric field of a geometrical arrangement depends on the distance between the HV-electrodes and the grounded surfaces.\n",
    "* Field enhancement regions form around sharp edges and corners of dielectric and conductive bodies.\n",
    "* Geometrical rounding of the sharp corners and edges reduces the electric field around them and thus mitigate the dielectric problems.\n",
    "* If the rounding is not possible, the electric shielding or high-ε coating should be used.\n",
    "\n",
    "\n",
    "### Introduction\n",
    "#### The case of a generator circuit breaker\n",
    "\n",
    "\n",
    "### Electrostatic boundary value problem (BVP)\n",
    "\n",
    "#### Poisson equation\n",
    "\n",
    "#### Boundary conditions\n",
    "\n",
    "#### A remark on ionization\n",
    "\n",
    "\n",
    "### Dielectric analysis\n",
    "\n",
    "#### Field enhancement regions\n",
    "##### Sharp edges and corners\n",
    "##### Size reduction does not solve the issue\n",
    "\n",
    "#### Rounding of sharp corners\n",
    "\n",
    "#### High-𝜀 coating\n",
    "##### Example: Coil stacks in transformers\n",
    "\n",
    "#### Electric shielding\n",
    "##### Example: High voltage overhead line insulators\n",
    "\n",
    "#### Triple points\n",
    "##### Recess\n",
    "##### Shield\n",
    "\n",
    "### Numerical example\n",
    "#### 2-D electrostatic analysis of a HV-busbar (exercise 8)\n",
    "##### Field estimation\n",
    "##### Sharp corners\n",
    "##### Triple points\n",
    "##### Shielding"
   ]
  },
  {
   "cell_type": "markdown",
   "metadata": {
    "ExecuteTime": {
     "end_time": "2020-04-01T09:59:30.501153Z",
     "start_time": "2020-04-01T09:59:30.498748Z"
    }
   },
   "source": [
    "# References\n",
    "\n",
    "Unless mentioned otherwise, all content and images from:\n",
    "* ETHZ 227-0536-00L Multiphysics Simulations for Power Systems lecture notes by Prof. Dr. Jasmin Smajic"
   ]
  },
  {
   "cell_type": "code",
   "execution_count": null,
   "metadata": {},
   "outputs": [],
   "source": []
  }
 ],
 "metadata": {
  "kernelspec": {
   "display_name": "Python 3",
   "language": "python",
   "name": "python3"
  },
  "language_info": {
   "codemirror_mode": {
    "name": "ipython",
    "version": 3
   },
   "file_extension": ".py",
   "mimetype": "text/x-python",
   "name": "python",
   "nbconvert_exporter": "python",
   "pygments_lexer": "ipython3",
   "version": "3.7.7"
  },
  "latex_envs": {
   "LaTeX_envs_menu_present": true,
   "autoclose": false,
   "autocomplete": false,
   "bibliofile": "biblio.bib",
   "cite_by": "apalike",
   "current_citInitial": 1,
   "eqLabelWithNumbers": true,
   "eqNumInitial": 1,
   "hotkeys": {
    "equation": "Ctrl-E",
    "itemize": "Ctrl-I"
   },
   "labels_anchors": false,
   "latex_user_defs": false,
   "report_style_numbering": false,
   "user_envs_cfg": false
  },
  "toc": {
   "base_numbering": 1,
   "nav_menu": {},
   "number_sections": true,
   "sideBar": true,
   "skip_h1_title": true,
   "title_cell": "Multiphysics Simulations for Power Systems lecture notes",
   "title_sidebar": "Contents",
   "toc_cell": true,
   "toc_position": {
    "height": "calc(100% - 180px)",
    "left": "10px",
    "top": "150px",
    "width": "385px"
   },
   "toc_section_display": true,
   "toc_window_display": true
  },
  "varInspector": {
   "cols": {
    "lenName": 16,
    "lenType": 16,
    "lenVar": 40
   },
   "kernels_config": {
    "python": {
     "delete_cmd_postfix": "",
     "delete_cmd_prefix": "del ",
     "library": "var_list.py",
     "varRefreshCmd": "print(var_dic_list())"
    },
    "r": {
     "delete_cmd_postfix": ") ",
     "delete_cmd_prefix": "rm(",
     "library": "var_list.r",
     "varRefreshCmd": "cat(var_dic_list()) "
    }
   },
   "types_to_exclude": [
    "module",
    "function",
    "builtin_function_or_method",
    "instance",
    "_Feature"
   ],
   "window_display": false
  }
 },
 "nbformat": 4,
 "nbformat_minor": 4
}
